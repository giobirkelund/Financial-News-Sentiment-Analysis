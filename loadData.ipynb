{
 "cells": [
  {
   "cell_type": "code",
   "execution_count": 22,
   "metadata": {},
   "outputs": [
    {
     "name": "stdout",
     "output_type": "stream",
     "text": [
      "                                            news_url  \\\n",
      "0        https://www.youtube.com/watch?v=MJCNfc53Mv0   \n",
      "1  https://www.reuters.com/article/us-coronavirus...   \n",
      "2  http://www.zacks.com/stock/news/826018/tesla-t...   \n",
      "3        https://www.youtube.com/watch?v=IrpJBT08ty0   \n",
      "4  https://www.investors.com/news/technology/tesl...   \n",
      "5        https://www.youtube.com/watch?v=xqSl3C1rVXc   \n",
      "6        https://www.youtube.com/watch?v=HZIbsFqrNpI   \n",
      "7  https://www.cnbc.com/2020/03/20/how-elon-musk-...   \n",
      "8  https://seekingalpha.com/article/4333263-tesla...   \n",
      "9  http://www.zacks.com/stock/news/825245/pii-vs-...   \n",
      "\n",
      "                                               title  \\\n",
      "0  Tesla's Elon Musk Says 'We're Working on Venti...   \n",
      "1  Panasonic to suspend battery production at Tes...   \n",
      "2  Tesla (TSLA) Stock Moves -0.03%: What You Shou...   \n",
      "3  Coronavirus Stock Market Crash: Dark Days Ahea...   \n",
      "4  Coronavirus Stock Market Crash: Apple, Tesla S...   \n",
      "5  US auto sales decline doubles in last week: JD...   \n",
      "6     Tesla's Elon Musk Says He Can Make Ventilators   \n",
      "7  How Elon Musk took Tesla to hell and back with...   \n",
      "8                    Tesla: Sub $35,000 Model 3 Here   \n",
      "9  PII vs. TSLA: Which Stock Is the Better Value ...   \n",
      "\n",
      "                                                text sentiment  \n",
      "0  Elon Musk, Tesla's ceo, says in a tweet that \"...  Positive  \n",
      "1  Panasonic Corp  said on Saturday it will tempo...  Negative  \n",
      "2  Tesla (TSLA) closed the most recent trading da...   Neutral  \n",
      "3  Major stocks, including Apple and Tesla, are f...   Neutral  \n",
      "4  Major stocks, including Apple and Tesla stock,...  Negative  \n",
      "5  CNBC's Phil LeBeau reports that the U.S. auto ...  Negative  \n",
      "6  Tesla Chief Executive Officer Elon Musk joined...   Neutral  \n",
      "7  Growing Tesla from the Roadster to the Model 3...   Neutral  \n",
      "8                    Tesla: Sub $35,000 Model 3 Here   Neutral  \n",
      "9  PII vs. TSLA: Which Stock Is the Better Value ...   Neutral  \n"
     ]
    }
   ],
   "source": [
    "import pandas as pd\n",
    "import json\n",
    "df = pd.read_json('stocknews.json')\n",
    "# print(df)\n",
    "df1 = df[['news_url','title','text','sentiment']]\n",
    "print(df1)\n",
    "\n",
    "#TODO: remove videos from news   \n"
   ]
  },
  {
   "cell_type": "code",
   "execution_count": null,
   "metadata": {},
   "outputs": [],
   "source": []
  },
  {
   "cell_type": "code",
   "execution_count": null,
   "metadata": {},
   "outputs": [],
   "source": []
  }
 ],
 "metadata": {
  "kernelspec": {
   "display_name": "Python 3",
   "language": "python",
   "name": "python3"
  },
  "language_info": {
   "codemirror_mode": {
    "name": "ipython",
    "version": 3
   },
   "file_extension": ".py",
   "mimetype": "text/x-python",
   "name": "python",
   "nbconvert_exporter": "python",
   "pygments_lexer": "ipython3",
   "version": "3.7.4"
  }
 },
 "nbformat": 4,
 "nbformat_minor": 2
}
