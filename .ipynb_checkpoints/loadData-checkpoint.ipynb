{
 "cells": [
  {
   "cell_type": "code",
   "execution_count": 83,
   "metadata": {},
   "outputs": [
    {
     "name": "stdout",
     "output_type": "stream",
     "text": [
      "                                                 text sentiment\n",
      "0   With volatility at historically high levels an...   Neutral\n",
      "1   Dow futures fell 5%, hitting the \"limit down\" ...  Negative\n",
      "2   The floor of the New York Stock Exchange will ...   Neutral\n",
      "3   Republican senators would create $425 billion ...  Positive\n",
      "4   Oil prices are on track for their worst month ...  Negative\n",
      "..                                                ...       ...\n",
      "95                               Tech Is The Solution  Positive\n",
      "96  After a lot of punishment, markets are trying ...  Positive\n",
      "97  As society comes to grips with the growing wor...   Neutral\n",
      "98  To aid production companies that have been cri...  Positive\n",
      "99  Amazon has become a lifeline for many people d...  Negative\n",
      "\n",
      "[100 rows x 2 columns]\n",
      "Number of Positive: 31\n",
      "Number of Negative: 34\n",
      "Number of Neutral: 35\n"
     ]
    }
   ],
   "source": [
    "# api key: 6onk1z6389zttkq1luwvdtlvaffre9orbymgtckp\n",
    "import pandas as pd\n",
    "import json\n",
    "from pandas.io.json import json_normalize\n",
    "# df = pd.read_json('stocknews.json')\n",
    "# # print(df)\n",
    "# df1 = df[['news_url','title','text','sentiment']]\n",
    "# # print(df1)\n",
    "\n",
    "with open('stocknews.json', 'r') as f:\n",
    "    datastore = json.load(f,strict=False)\n",
    "\n",
    "#Use the new datastore datastructure\n",
    "dataset = json_normalize(datastore['data'])[['text','sentiment']]\n",
    "print(dataset)\n",
    "print(\"Number of Positive:\",list(dataset[\"sentiment\"]).count(\"Positive\"))\n",
    "print(\"Number of Negative:\",list(dataset[\"sentiment\"]).count(\"Negative\"))\n",
    "print(\"Number of Neutral:\",list(dataset[\"sentiment\"]).count(\"Neutral\"))\n",
    "\n",
    "#select the nth row, and select a column\n",
    "# print(dataset.iloc[12]['text'])\n",
    "\n",
    "# print(dataset[])\n",
    "\n",
    "# #TODO: remove videos from news   \n"
   ]
  },
  {
   "cell_type": "code",
   "execution_count": null,
   "metadata": {},
   "outputs": [],
   "source": [
    "#Process\n",
    "from nltk import NaiveBayesClassifier\n",
    "from nltk import classify\n",
    "from nltk.corpus import PlaintextCorpusReader\n",
    "from nltk.corpus import stopwords # denne brukes for å slette stoppord fra tekstene\n",
    "import string # denne importeres for å kunne slette tegnsetting fra tekstene\n",
    "from nltk import bigrams\n",
    "from nltk import trigrams\n",
    "\n",
    "pos_articles\n",
    "\n",
    "def preprocessing(reviews, pos_reviews, neg_reviews):\n",
    "    for fileid in reviews.fileids():\n",
    "        if fileid.startswith('neg'):\n",
    "            words = reviews.words(fileid)\n",
    "            neg_reviews.append([x.lower() for x in words])\n",
    "        elif fileid.startswith('pos'):\n",
    "            words = reviews.words(fileid)\n",
    "            pos_reviews.append([x.lower() for x in words])\n",
    "    return pos_reviews, neg_reviews\n"
   ]
  },
  {
   "cell_type": "code",
   "execution_count": null,
   "metadata": {},
   "outputs": [],
   "source": []
  }
 ],
 "metadata": {
  "kernelspec": {
   "display_name": "Python 3",
   "language": "python",
   "name": "python3"
  },
  "language_info": {
   "codemirror_mode": {
    "name": "ipython",
    "version": 3
   },
   "file_extension": ".py",
   "mimetype": "text/x-python",
   "name": "python",
   "nbconvert_exporter": "python",
   "pygments_lexer": "ipython3",
   "version": "3.7.4"
  }
 },
 "nbformat": 4,
 "nbformat_minor": 2
}
